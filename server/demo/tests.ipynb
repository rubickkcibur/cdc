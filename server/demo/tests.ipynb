{
 "cells": [
  {
   "cell_type": "code",
   "execution_count": 3,
   "metadata": {},
   "outputs": [],
   "source": [
    "import json\n",
    "from py2neo import Graph, Node, Relationship, NodeMatcher\n",
    "import pymongo"
   ]
  },
  {
   "cell_type": "code",
   "execution_count": 4,
   "metadata": {},
   "outputs": [],
   "source": [
    "neo4j_path = \"bolt://39.105.232.15:2002\"\n",
    "mongo_path = pymongo.MongoClient(\"mongodb://%s:%s@39.105.232.15:2005\"%(\"admin\", \"123456\"))\n",
    "db = mongo_path[\"surveys\"]\n",
    "col = db[\"production\"]\n",
    "graph = Graph(neo4j_path, user=\"neo4j\", password=\"123456\")\n",
    "matcher = NodeMatcher(graph)"
   ]
  },
  {
   "cell_type": "code",
   "execution_count": 21,
   "metadata": {},
   "outputs": [],
   "source": [
    "graph.delete_all()"
   ]
  },
  {
   "cell_type": "code",
   "execution_count": 7,
   "metadata": {},
   "outputs": [],
   "source": [
    "with open(\"sample_data.json\", \"r\", encoding=\"utf-8\") as f:\n",
    "    data = json.load(f)\n",
    "name = data[\"name\"].strip()\n",
    "gender = data[\"gender\"].strip()\n",
    "phone = data[\"phone\"].strip()\n",
    "age = data[\"age\"].strip()\n",
    "address = data[\"address\"].strip()\n",
    "path = data[\"path\"]"
   ]
  },
  {
   "cell_type": "code",
   "execution_count": 9,
   "metadata": {},
   "outputs": [],
   "source": [
    "res = matcher.match(\"Patient\", name=name, gender=gender, phone=phone, age=age, address=address).first()"
   ]
  },
  {
   "cell_type": "code",
   "execution_count": 22,
   "metadata": {},
   "outputs": [
    {
     "data": {
      "text/plain": [
       "False"
      ]
     },
     "execution_count": 22,
     "metadata": {},
     "output_type": "execute_result"
    }
   ],
   "source": []
  },
  {
   "cell_type": "code",
   "execution_count": 23,
   "metadata": {},
   "outputs": [],
   "source": [
    "tx = graph.begin()\n",
    "if res is not None:\n",
    "    person_node = res\n",
    "else:\n",
    "    person_node = Node(\"Patient\", name=name)\n",
    "    if len(gender)> 0:\n",
    "        person_node[gender] = gender\n",
    "    if len(phone) > 0:\n",
    "        person_node[phone] = phone\n",
    "    if len(age) > 0:\n",
    "        person_node[age] = age\n",
    "    if len(address) > 0:\n",
    "        person_node[address] = address \n",
    "\n",
    "    tx.create(person_node)\n",
    "    "
   ]
  },
  {
   "cell_type": "code",
   "execution_count": 14,
   "metadata": {},
   "outputs": [
    {
     "data": {
      "text/plain": [
       "'张三'"
      ]
     },
     "execution_count": 14,
     "metadata": {},
     "output_type": "execute_result"
    }
   ],
   "source": []
  }
 ],
 "metadata": {
  "kernelspec": {
   "display_name": "Python 3",
   "language": "python",
   "name": "python3"
  },
  "language_info": {
   "codemirror_mode": {
    "name": "ipython",
    "version": 3
   },
   "file_extension": ".py",
   "mimetype": "text/x-python",
   "name": "python",
   "nbconvert_exporter": "python",
   "pygments_lexer": "ipython3",
   "version": "3.8.3"
  }
 },
 "nbformat": 4,
 "nbformat_minor": 4
}
